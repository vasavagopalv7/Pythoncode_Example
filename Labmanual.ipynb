{
  "nbformat": 4,
  "nbformat_minor": 0,
  "metadata": {
    "colab": {
      "provenance": [],
      "authorship_tag": "ABX9TyORMluszfiZymedJWOWxAKH",
      "include_colab_link": true
    },
    "kernelspec": {
      "name": "python3",
      "display_name": "Python 3"
    },
    "language_info": {
      "name": "python"
    }
  },
  "cells": [
    {
      "cell_type": "markdown",
      "metadata": {
        "id": "view-in-github",
        "colab_type": "text"
      },
      "source": [
        "<a href=\"https://colab.research.google.com/github/vasavagopalv7/Pythoncode_Example/blob/main/Labmanual.ipynb\" target=\"_parent\"><img src=\"https://colab.research.google.com/assets/colab-badge.svg\" alt=\"Open In Colab\"/></a>"
      ]
    },
    {
      "cell_type": "code",
      "execution_count": null,
      "metadata": {
        "colab": {
          "base_uri": "https://localhost:8080/"
        },
        "id": "oor5p09Gszj7",
        "outputId": "ad1a31aa-ff6f-441c-cf95-3ea5a3a22f9f"
      },
      "outputs": [
        {
          "output_type": "stream",
          "name": "stdout",
          "text": [
            "Enter the name of User  :sk\n",
            "Enter the age of User :20\n",
            "sk You will turn 100 year old in 2104\n"
          ]
        }
      ],
      "source": [
        "\"\"\"Create a program that asks the user to enter their name and their age. Print out a message addressed\n",
        "to them that tells them the year that they will turn 100 years old.\"\"\"\n",
        "\n",
        "#practical 1\n",
        "\n",
        "\n",
        "Name=input(\"Enter the name of User  :\")\n",
        "Age= int(input(\"Enter the age of User :\"))\n",
        "Hundreth_Year=(2024+(100-Age))\n",
        "print(Name,\"You will turn 100 year old in\",Hundreth_Year)\n"
      ]
    },
    {
      "cell_type": "code",
      "source": [
        "\"\"\"Develop a python program to make a simple calculator using a conditional loop.\"\"\"\n",
        "\n",
        "#practical 2\n",
        "\n",
        "def add(num1, num2):\n",
        "    return num1 + num2\n",
        "\n",
        "def subtract(num1, num2):\n",
        "    return num1 - num2\n",
        "\n",
        "def multiply(num1, num2):\n",
        "    return num1 * num2\n",
        "\n",
        "def divide(num1, num2):\n",
        "    return num1 / num2\n",
        "\n",
        "print(\"Select Operation \\n\",\"\\n1. Addition \\n\",\"2. Subtraction \\n\",\"3. Multiplication \\n\",\"4. Divide \\n\")\n",
        "\n",
        "select = int(input(\"Enter Operation From 1, 2, 3, 4 :\"))\n",
        "\n",
        "num1 = int(input(\"Enter value of num1 :\"))\n",
        "num2 = int(input(\"Enter the Value of num2:\"))\n",
        "\n",
        "if select == 1:\n",
        "    print(num1,\" + \",num2,\"=\", add(num1,num2))\n",
        "\n",
        "elif select == 2:\n",
        "    print(num1,\" - \",num2,\"=\", subtract(num1,num2))\n",
        "\n",
        "elif select == 3:\n",
        "    print(num1,\" * \",num2,\"=\", multiply(num1,num2))\n",
        "\n",
        "elif select == 4:\n",
        "    print(num1,\" / \",num2,\"=\", divide(num1,num2))\n",
        "\n",
        "else:\n",
        "    print(\"Invalid Operation\")"
      ],
      "metadata": {
        "colab": {
          "base_uri": "https://localhost:8080/"
        },
        "id": "BCf2xpug3sPg",
        "outputId": "52d8bf6c-3fd2-4625-f03f-cc88992b6f79"
      },
      "execution_count": null,
      "outputs": [
        {
          "output_type": "stream",
          "name": "stdout",
          "text": [
            "Select Operation \n",
            " \n",
            "1. Addition \n",
            " 2. Subtraction \n",
            " 3. Multiplication \n",
            " 4. Divide \n",
            "\n",
            "Enter Operation From 1, 2, 3, 4 :4\n",
            "Enter value of num1 :4\n",
            "Enter the Value of num2:2\n",
            "4  /  2 = 2.0\n"
          ]
        }
      ]
    },
    {
      "cell_type": "code",
      "source": [
        "\"\"\" Ask the user for a number. Depending on whether the number is even or odd, print out an\n",
        "appropriate message to the user. Hint: how does an even / odd number react differently when divided\n",
        "by 2? \"\"\"\n",
        "\n",
        "#practical 3\n",
        "\n",
        "\n",
        "\n",
        "num = int(input(\"Enter a number: \"))\n",
        "\n",
        "\n",
        "if num %4 == 0:\n",
        "    print(f\"The number {num} is a multiple of 4!\")\n",
        "\n",
        "elif num % 2 == 0:\n",
        "    print(f\"The number {num} is even.\")\n",
        "else:\n",
        "    print(f\"The number {num} is odd.\")\n"
      ],
      "metadata": {
        "colab": {
          "base_uri": "https://localhost:8080/"
        },
        "id": "aRrHHqlt4ABO",
        "outputId": "64d4c85d-438f-4f6b-a5cf-27716bb7b35b"
      },
      "execution_count": null,
      "outputs": [
        {
          "output_type": "stream",
          "name": "stdout",
          "text": [
            "Enter a number: 10\n",
            "The number 10 is even.\n"
          ]
        }
      ]
    },
    {
      "cell_type": "code",
      "source": [
        "\"\"\"Take a list, say for example this one: a = [1, 1, 2, 3, 5, 8, 13, 21, 34, 55, 89], and write a program that\n",
        "prints out all the elements of the list that are less than 5. Self: Instead of printing the elements one by\n",
        "one, make a new list that has all the elements less than 5 from this list in it and print out this new list.\"\"\"\n",
        "\n",
        "#practical 4\n",
        "\n",
        "a = [1, 1, 2, 3, 5, 8, 13, 21, 34, 55, 89]\n",
        "\n",
        "b=[]\n",
        "\n",
        "for num in a:\n",
        "  if num<5:\n",
        "    b.append(num)\n",
        "\n",
        "print(b)"
      ],
      "metadata": {
        "colab": {
          "base_uri": "https://localhost:8080/"
        },
        "id": "w7dSyoKb5kex",
        "outputId": "1bc9000c-1a2c-4d03-ac24-700ef91c4d9d"
      },
      "execution_count": null,
      "outputs": [
        {
          "output_type": "stream",
          "name": "stdout",
          "text": [
            "[1, 1, 2, 3]\n"
          ]
        }
      ]
    },
    {
      "cell_type": "code",
      "source": [
        "\"\"\"Make a two-player Rock-Paper-Scissors game. (Hint: Ask for player plays (using input), compare\n",
        "them, print out a message of congratulations to the winner, and ask if the players want to start a new\n",
        "game) Remember the rules: Rock beats scissors, Scissors beats paper, Paper beats rock. \"\"\"\n",
        "\n",
        "#practical 5\n",
        "\n",
        "def get_winner(player1, player2):\n",
        "\n",
        "    if player1 == player2:\n",
        "        return \"It's a tie!\"\n",
        "    elif (player1 == \"rock\" and player2 == \"scissors\") or (player1 == \"scissors\" and player2 == \"paper\") or (player1 == \"paper\" and player2 == \"rock\"):\n",
        "        return \"Player 1 wins!\"\n",
        "    else:\n",
        "        return \"Player 2 wins!\"\n",
        "\n",
        "def play_game():\n",
        "    while True:\n",
        "\n",
        "        player1_choice = input(\"Player 1, enter your choice (rock, paper, or scissors): \").lower()\n",
        "        player2_choice = input(\"Player 2, enter your choice (rock, paper, or scissors): \").lower()\n",
        "\n",
        "\n",
        "        if player1_choice not in [\"rock\", \"paper\", \"scissors\"] or player2_choice not in [\"rock\", \"paper\", \"scissors\"]:\n",
        "            print(\"Invalid input, please choose rock, paper, or scissors.\")\n",
        "            continue\n",
        "\n",
        "\n",
        "        result = get_winner(player1_choice, player2_choice)\n",
        "        print(result)\n",
        "\n",
        "\n",
        "        play_again = input(\"Do you want to play again? (yes/no): \").lower()\n",
        "        if play_again != \"yes\":\n",
        "            print(\"Thanks for playing!\")\n",
        "            break\n",
        "\n",
        "\n",
        "play_game()\n",
        "\n"
      ],
      "metadata": {
        "colab": {
          "base_uri": "https://localhost:8080/"
        },
        "id": "Rs141YmS-maS",
        "outputId": "9a8e9c2a-3be9-46c9-bc7c-238196578f0c"
      },
      "execution_count": null,
      "outputs": [
        {
          "output_type": "stream",
          "name": "stdout",
          "text": [
            "Player 1, enter your choice (rock, paper, or scissors): rock\n",
            "Player 2, enter your choice (rock, paper, or scissors): paper\n",
            "Player 2 wins!\n",
            "Do you want to play again? (yes/no): no\n",
            "Thanks for playing!\n"
          ]
        }
      ]
    },
    {
      "cell_type": "code",
      "source": [
        "\"\"\"Ask the user for a string and print out whether this string is a palindrome or not. (Using string\n",
        "reversal and for loops).\"\"\"\n",
        "\n",
        "#practical 6\n",
        "\n",
        "str = input(\"Enter a string: \")\n",
        "\n",
        "str = str.replace(\" \", \"\").lower()\n",
        "\n",
        "reversed_string = \"\"\n",
        "for char in str:\n",
        "    reversed_string = char + reversed_string\n",
        "\n",
        "if str == reversed_string:\n",
        "    print(\"The string is a palindrome!\")\n",
        "else:\n",
        "    print(\"The string is not a palindrome.\")\n",
        "\n"
      ],
      "metadata": {
        "colab": {
          "base_uri": "https://localhost:8080/"
        },
        "id": "XQEXAaUpD2B3",
        "outputId": "67e72c65-d212-4a8c-da03-daf050363693"
      },
      "execution_count": null,
      "outputs": [
        {
          "output_type": "stream",
          "name": "stdout",
          "text": [
            "Enter a string: Madam\n",
            "The string is a palindrome!\n"
          ]
        }
      ]
    },
    {
      "cell_type": "code",
      "source": [
        "\"\"\" Write a program (function!) that takes a list and returns a new list that contains all the elements of\n",
        "the first list minus all the duplicates. Self: Write two different functions to do this - one using a loop\n",
        "and constructing a list, and another using set\"\"\"\n",
        "\n",
        "# practical 7\n",
        "\n",
        "def remove_dup(input_list):\n",
        "\n",
        "    unique_list = []\n",
        "\n",
        "    for item in input_list:\n",
        "\n",
        "        if item not in unique_list:\n",
        "            unique_list.append(item)\n",
        "\n",
        "    return unique_list\n",
        "\n",
        "\n",
        "a = [1, 2, 3, 2, 4, 4, 5]\n",
        "print(remove_dup(a))\n"
      ],
      "metadata": {
        "colab": {
          "base_uri": "https://localhost:8080/"
        },
        "id": "cTVD_6LNGlSG",
        "outputId": "0a3ec31f-dcae-4874-ff76-28a06d5250a9"
      },
      "execution_count": null,
      "outputs": [
        {
          "output_type": "stream",
          "name": "stdout",
          "text": [
            "[1, 2, 3, 4, 5]\n"
          ]
        }
      ]
    },
    {
      "cell_type": "code",
      "source": [
        "\"\"\"Write a program (using functions!) that asks the user for a long string function. Containing multiple\n",
        "words. Print back to the user the same string, except with the words in backwards order. For\n",
        "example, say I type the string: My name is Michele Then I would see the string: Michele is name\n",
        "My (shown back to me)\"\"\"\n",
        "\n",
        "#practical 8\n",
        "\n",
        "def reverse_words(input_string):\n",
        "\n",
        "    words = input_string.split()\n",
        "\n",
        "\n",
        "    reversed_words = words[::-1]\n",
        "\n",
        "\n",
        "    return \" \".join(reversed_words)\n",
        "\n",
        "\n",
        "user_input = input(\"Enter a string with multiple words: \")\n",
        "\n",
        "\n",
        "reversed_string = reverse_words(user_input)\n",
        "print(\"Reversed string:\", reversed_string)\n"
      ],
      "metadata": {
        "colab": {
          "base_uri": "https://localhost:8080/"
        },
        "id": "Dycd6dVpIxUH",
        "outputId": "3796f4bd-2a3a-42df-96b3-0e3125f0f664"
      },
      "execution_count": null,
      "outputs": [
        {
          "output_type": "stream",
          "name": "stdout",
          "text": [
            "Enter a string with multiple words: Hello sartil im here\n",
            "Reversed string: here im sartil Hello\n"
          ]
        }
      ]
    },
    {
      "cell_type": "code",
      "source": [
        "class Dog:\n",
        "    def __init__(self, name):\n",
        "        self.name = name\n",
        "\n",
        "dog1 = Dog(\"Buddy\")  # Create an object (dog1) of class Dog\n",
        "print(dog1.name)  # Output: Buddy\n"
      ],
      "metadata": {
        "colab": {
          "base_uri": "https://localhost:8080/"
        },
        "id": "q89CxXFQKb7B",
        "outputId": "90a5001c-e2ed-423e-e5d9-c85320f57f7f"
      },
      "execution_count": null,
      "outputs": [
        {
          "output_type": "stream",
          "name": "stdout",
          "text": [
            "Buddy\n"
          ]
        }
      ]
    },
    {
      "cell_type": "code",
      "source": [
        "#practical 9\n",
        "\"\"\"Write a Python class named Circle constructed by a radius and two methods which will compute the\n",
        "area and the perimeter of a circle. \"\"\"\n",
        "\n",
        "import math\n",
        "\n",
        "class Circle:\n",
        "    def __init__(self, radius):\n",
        "        self.radius = radius\n",
        "    def area(self):\n",
        "\n",
        "        return math.pi * (self.radius ** 2)\n",
        "\n",
        "    def perimeter(self):\n",
        "\n",
        "        return 2 * math.pi * self.radius\n",
        "\n",
        "a=int(input(\"Enter the radius of circle :\"))\n",
        "circle = Circle(a)\n",
        "\n",
        "\n",
        "print(\"Area:\", circle.area())\n",
        "\n",
        "\n",
        "print(\"Perimeter:\", circle.perimeter())"
      ],
      "metadata": {
        "colab": {
          "base_uri": "https://localhost:8080/"
        },
        "id": "HFpBZL6SmPcS",
        "outputId": "61dc7254-06a9-40d2-83a5-e579e221fedf"
      },
      "execution_count": null,
      "outputs": [
        {
          "output_type": "stream",
          "name": "stdout",
          "text": [
            "Enter the radius of circle :9\n",
            "Area: 254.46900494077323\n",
            "Perimeter: 56.548667764616276\n"
          ]
        }
      ]
    },
    {
      "cell_type": "code",
      "source": [
        "#10 practical\n",
        "\"\"\" Write a python program to create a multiple inheritance using two super classes as Ferrari, Benz and\n",
        "the subclass as Car\n",
        "\"\"\"\n",
        "\n",
        "\n",
        "class Ferrari:\n",
        "    def ferrari_fea(self):\n",
        "        return \"Ferrari: High speed, Sporty design, Premium quality\"\n",
        "\n",
        "\n",
        "class Benz:\n",
        "    def benz_fea(self):\n",
        "        return \"Benz: Luxury interior, Advanced safety, Smooth ride\"\n",
        "\n",
        "\n",
        "class Car(Ferrari, Benz):\n",
        "    def car_info(self):\n",
        "        return \"Car: A combination of Ferrari's speed and Benz's luxury\"\n",
        "\n",
        "\n",
        "car = Car()\n",
        "\n",
        "\n",
        "print(car.ferrari_fea())\n",
        "print(car.benz_fea())\n",
        "print(car.car_info())\n"
      ],
      "metadata": {
        "id": "IGw0zBMio_bL",
        "colab": {
          "base_uri": "https://localhost:8080/"
        },
        "outputId": "87ed36c9-8a78-4982-a6f3-2710f2ea477b"
      },
      "execution_count": null,
      "outputs": [
        {
          "output_type": "stream",
          "name": "stdout",
          "text": [
            "Ferrari: High speed, Sporty design, Premium quality\n",
            "Benz: Luxury interior, Advanced safety, Smooth ride\n",
            "Car: A combination of Ferrari's speed and Benz's luxury\n"
          ]
        }
      ]
    },
    {
      "cell_type": "code",
      "source": [
        "#11 practical\n",
        "\"\"\" Develop the given programs to learn regular expressions using python\n",
        "1. Write a Python program to check that a string contains only a certain set of characters (in this\n",
        "case a-z, A-Z and 0-9)\n",
        "2. Write a Python program that matches a string that has an a followed by zero or one 'b'\n",
        "3. Write a Python program to find sequences of lowercase letters joined by an underscore.\n",
        "4. Write a Python program that matches a word containing 'z'.\"\"\"\n",
        "\n",
        "import re\n",
        "\n",
        "def is_valid_string(s):\n",
        "    pattern = re.fullmatch(r'[a-zA-Z0-9]+', s)\n",
        "    return bool(pattern)\n",
        "\n",
        "print(is_valid_string(\"Hello123\"))\n",
        "print(is_valid_string(\"Hello@123\"))\n",
        "\n",
        "def match_a_b(s):\n",
        "    pattern = re.fullmatch(r'ab?', s)\n",
        "    return bool(pattern)\n",
        "\n",
        "print(match_a_b(\"a\"))\n",
        "print(match_a_b(\"ab\"))\n",
        "print(match_a_b(\"abb\"))\n",
        "\n",
        "\n",
        "def find_lowercase(s):\n",
        "    pattern = re.findall(r'\\b[a-z]+_[a-z]+\\b', s)\n",
        "    return pattern\n",
        "\n",
        "print(find_lowercase(\"hello_world test_case example_text\"))\n",
        "print(find_lowercase(\"Hello_World\"))\n",
        "\n",
        "def contains_z(s):\n",
        "    pattern = re.search(r'\\b\\w*z\\w*\\b', s, re.IGNORECASE)\n",
        "    return bool(pattern)\n",
        "\n",
        "print(contains_z(\"amazing\"))\n",
        "print(contains_z(\"buzz\"))\n",
        "print(contains_z(\"hello\"))\n",
        "\n"
      ],
      "metadata": {
        "colab": {
          "base_uri": "https://localhost:8080/"
        },
        "id": "n-7mFDzAtZUV",
        "outputId": "029f8b3a-af5d-4f49-9657-dda858464a31"
      },
      "execution_count": null,
      "outputs": [
        {
          "output_type": "stream",
          "name": "stdout",
          "text": [
            "True\n",
            "False\n",
            "True\n",
            "True\n",
            "False\n",
            "['hello_world', 'test_case', 'example_text']\n",
            "[]\n",
            "True\n",
            "True\n",
            "False\n"
          ]
        }
      ]
    },
    {
      "cell_type": "code",
      "source": [],
      "metadata": {
        "id": "A4XiS346F93P"
      },
      "execution_count": null,
      "outputs": []
    },
    {
      "cell_type": "code",
      "source": [
        "#19 practical\n",
        "\"\"\"Create a simple line chart using Matplotlib to visualize a dataset.\"\"\"\n",
        "\n",
        "\n",
        "import matplotlib.pyplot as plt\n",
        "\n",
        "years = [2018, 2019, 2020, 2021, 2022, 2023, 2024 , 2025]\n",
        "sales = [150, 180, 210, 190, 220, 260, 240, 280]\n",
        "\n",
        "plt.figure(figsize=(8,5))\n",
        "plt.plot(years, sales, marker='o', linestyle='-', color='b', linewidth=2, markersize=6, label=\"Annual Sales\")\n",
        "\n",
        "plt.xlabel(\"Year\")\n",
        "plt.ylabel(\"Sales (in thousands)\")\n",
        "plt.title(\"Company Sales Over Years\")\n",
        "\n",
        "\n",
        "plt.grid(True, linestyle='--', alpha=0.6)\n",
        "plt.legend()\n",
        "\n",
        "\n",
        "plt.show()\n"
      ],
      "metadata": {
        "colab": {
          "base_uri": "https://localhost:8080/",
          "height": 487
        },
        "id": "qMKcftnVy4hy",
        "outputId": "cc667022-3102-4177-fcd2-c4b29711ba86"
      },
      "execution_count": null,
      "outputs": [
        {
          "output_type": "display_data",
          "data": {
            "text/plain": [
              "<Figure size 800x500 with 1 Axes>"
            ],
            "image/png": "[encoded data removed]"
          },
          "metadata": {}
        }
      ]
    }
  ]
}