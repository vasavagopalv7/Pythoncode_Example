{
  "nbformat": 4,
  "nbformat_minor": 0,
  "metadata": {
    "colab": {
      "provenance": [],
      "authorship_tag": "ABX9TyMTPD9CzjDMNUpJvBEN1WIE",
      "include_colab_link": true
    },
    "kernelspec": {
      "name": "python3",
      "display_name": "Python 3"
    },
    "language_info": {
      "name": "python"
    }
  },
  "cells": [
    {
      "cell_type": "markdown",
      "metadata": {
        "id": "view-in-github",
        "colab_type": "text"
      },
      "source": [
        "<a href=\"https://colab.research.google.com/github/vasavagopalv7/Pythoncode_Example/blob/main/practice.ipynb\" target=\"_parent\"><img src=\"https://colab.research.google.com/assets/colab-badge.svg\" alt=\"Open In Colab\"/></a>"
      ]
    },
    {
      "cell_type": "code",
      "execution_count": null,
      "metadata": {
        "colab": {
          "base_uri": "https://localhost:8080/"
        },
        "id": "weuUpN-L0GD8",
        "outputId": "eef3d3b0-92da-461f-e9e6-6c4df68a6c3a"
      },
      "outputs": [
        {
          "output_type": "stream",
          "name": "stdout",
          "text": [
            "Reversed: 54321\n"
          ]
        }
      ],
      "source": [
        "# Write a program to reverse a number:\n",
        "\n",
        "num = 12345\n",
        "rev = 0\n",
        "while num > 0:\n",
        " rev = rev * 10 + num % 10\n",
        " num = num // 10\n",
        "print(\"Reversed:\", rev)\n"
      ]
    },
    {
      "cell_type": "code",
      "source": [
        "#Factorial using recursion:\n",
        "def factorial(n):\n",
        " if n == 0:\n",
        "   return 1\n",
        " return n * factorial(n - 1)\n",
        "print(factorial(5))"
      ],
      "metadata": {
        "colab": {
          "base_uri": "https://localhost:8080/"
        },
        "id": "xKh5bT-X1PTj",
        "outputId": "418e8745-c812-4d9b-9f66-f0ae7f7a0ca2"
      },
      "execution_count": null,
      "outputs": [
        {
          "output_type": "stream",
          "name": "stdout",
          "text": [
            "120\n"
          ]
        }
      ]
    },
    {
      "cell_type": "code",
      "source": [
        "#) Sum of two numbers using function:\n",
        "def sum(a,b):\n",
        "   return a+b\n",
        "print(sum( 5,6))"
      ],
      "metadata": {
        "colab": {
          "base_uri": "https://localhost:8080/"
        },
        "id": "NNLzimvO2WNB",
        "outputId": "7b38eeda-900b-4107-841b-f186ddb4979d"
      },
      "execution_count": null,
      "outputs": [
        {
          "output_type": "stream",
          "name": "stdout",
          "text": [
            "11\n"
          ]
        }
      ]
    },
    {
      "cell_type": "code",
      "source": [
        "#Defining and calling a function:\n",
        "def greet():\n",
        " print(\"Hello\")\n",
        "greet()"
      ],
      "metadata": {
        "colab": {
          "base_uri": "https://localhost:8080/"
        },
        "id": "XiVg1XSL3JWA",
        "outputId": "cda1787f-4c23-4fed-9951-49b8f0d10380"
      },
      "execution_count": null,
      "outputs": [
        {
          "output_type": "stream",
          "name": "stdout",
          "text": [
            "Hello\n"
          ]
        }
      ]
    },
    {
      "cell_type": "code",
      "source": [
        "#Inheritance example:\n",
        "class Animal:\n",
        " def speak(self):\n",
        "       print(\"Animal speaks\")\n",
        "class Dog(Animal):\n",
        " def bark(self):\n",
        "    print(\"Dog barks\")\n",
        "d = Dog()\n",
        "d.speak()\n",
        "d.bark()\n",
        "\n"
      ],
      "metadata": {
        "colab": {
          "base_uri": "https://localhost:8080/"
        },
        "id": "aoUe35tS31kR",
        "outputId": "76633bcc-6364-4119-9061-43857f97edb2"
      },
      "execution_count": null,
      "outputs": [
        {
          "output_type": "stream",
          "name": "stdout",
          "text": [
            "Animal speaks\n",
            "Dog barks\n"
          ]
        }
      ]
    },
    {
      "cell_type": "code",
      "source": [
        "#  multiple inheritance and  method  overriding & polimorphisam & Encapsulation\n",
        "class Birds:\n",
        "  def speak(self):\n",
        "    print(\"birds can speak\")\n",
        "class Parrot(Birds):\n",
        "  def speak(self):\n",
        "    print(\"Parrot can speak\")\n",
        "\n",
        "  def fly(self):\n",
        "    print(\"Parrot can fly\")\n",
        "class Greenparot(Parrot):\n",
        "  def red(self):\n",
        "    print(\"chyanch is red\")\n",
        "p = Greenparot()\n",
        "p.speak()\n",
        "p.fly()\n",
        "p.red()"
      ],
      "metadata": {
        "colab": {
          "base_uri": "https://localhost:8080/"
        },
        "id": "QK1JZzQl4jwt",
        "outputId": "515065a0-44fb-452c-e3b3-aedb5fc0f80a"
      },
      "execution_count": null,
      "outputs": [
        {
          "output_type": "stream",
          "name": "stdout",
          "text": [
            "Parrot can speak\n",
            "Parrot can fly\n",
            "chyanch is red\n"
          ]
        }
      ]
    },
    {
      "cell_type": "code",
      "source": [
        "# check string is palindrome or not\n",
        "def str_rverse():\n",
        "  str=input(\"Enter a string:\")\n",
        "  rev=str[::-1]\n",
        "  if str==rev:\n",
        "    print(\"Palindrome\")\n",
        "  else:\n",
        "      print(\"Not a Palindrome\")\n",
        "      print(str)\n",
        "  print(rev)\n",
        "str_rverse()"
      ],
      "metadata": {
        "colab": {
          "base_uri": "https://localhost:8080/"
        },
        "id": "x-bmLX8A7QiQ",
        "outputId": "15ea9b2d-8ca3-41d5-e556-3bac5c5dc2a4"
      },
      "execution_count": null,
      "outputs": [
        {
          "output_type": "stream",
          "name": "stdout",
          "text": [
            "Enter a string:sartik\n",
            "Not a Palindrome\n",
            "sartik\n",
            "kitras\n"
          ]
        }
      ]
    },
    {
      "cell_type": "code",
      "source": [
        "class Bird:\n",
        " def intro(self):\n",
        "  print(\"There are many types of birds\")\n",
        " def flight(self):\n",
        "  print(\"Most birds can fly\")\n",
        "class Parrot(Bird):\n",
        " def flight(self):\n",
        "  print(\"Parrots can fly\")\n",
        "obj = Parrot()\n",
        "obj.intro()\n",
        "obj.flight()"
      ],
      "metadata": {
        "colab": {
          "base_uri": "https://localhost:8080/"
        },
        "id": "mG3ZesP-G1sN",
        "outputId": "76ef8d89-9f83-4a48-9776-ebd0f3eae180"
      },
      "execution_count": null,
      "outputs": [
        {
          "output_type": "stream",
          "name": "stdout",
          "text": [
            "There are many types of birds\n",
            "Parrots can fly\n"
          ]
        }
      ]
    },
    {
      "cell_type": "code",
      "source": [
        "string=\"python\"\n",
        "for i in string :\n",
        "  print(i)\n"
      ],
      "metadata": {
        "colab": {
          "base_uri": "https://localhost:8080/"
        },
        "id": "j0W6ZHk68t30",
        "outputId": "1c67ae68-5b62-460a-d631-0b2379294b84"
      },
      "execution_count": null,
      "outputs": [
        {
          "output_type": "stream",
          "name": "stdout",
          "text": [
            "p\n",
            "y\n",
            "t\n",
            "h\n",
            "o\n",
            "n\n"
          ]
        }
      ]
    },
    {
      "cell_type": "code",
      "source": [
        "def is_even(i):\n",
        "  if i%2==0:\n",
        "    print(\"even\")\n",
        "  else:\n",
        "    print(\"odd\")\n",
        "is_even(5)"
      ],
      "metadata": {
        "colab": {
          "base_uri": "https://localhost:8080/"
        },
        "id": "C36L7ZpDABv5",
        "outputId": "0514866c-cc7e-4f64-d3ba-2b0d82496f8e"
      },
      "execution_count": null,
      "outputs": [
        {
          "output_type": "stream",
          "name": "stdout",
          "text": [
            "odd\n"
          ]
        }
      ]
    },
    {
      "cell_type": "code",
      "source": [
        "a = [1, 1, 2, 3, 5, 8, 13, 21, 34, 55, 89]\n",
        "for i in a:\n",
        " if i > 5:\n",
        "  print(i)"
      ],
      "metadata": {
        "colab": {
          "base_uri": "https://localhost:8080/"
        },
        "id": "kOUr7t9SCHUG",
        "outputId": "8723b7d8-d349-45b9-f925-7e182cd3b926"
      },
      "execution_count": null,
      "outputs": [
        {
          "output_type": "stream",
          "name": "stdout",
          "text": [
            "8\n",
            "13\n",
            "21\n",
            "34\n",
            "55\n",
            "89\n"
          ]
        }
      ]
    },
    {
      "cell_type": "code",
      "source": [
        "class Number:\n",
        " def __init__(self, x):\n",
        "  self.x = x\n",
        " def __add__(self, other):\n",
        "  return self.x + other.x\n",
        "n1 = Number(10)\n",
        "n2 = Number(20)\n",
        "print(n1 + n2)"
      ],
      "metadata": {
        "colab": {
          "base_uri": "https://localhost:8080/"
        },
        "id": "Pq-3Xm6YCoZZ",
        "outputId": "cf3e2c60-d254-45da-8e8f-c88c08e7b34c"
      },
      "execution_count": null,
      "outputs": [
        {
          "output_type": "stream",
          "name": "stdout",
          "text": [
            "30\n"
          ]
        }
      ]
    },
    {
      "cell_type": "code",
      "source": [
        "i = 1\n",
        "count = 0\n",
        "while count < 10:\n",
        "    if i % 2 == 0:\n",
        "        print(i, end=\" \")\n",
        "        count += 1\n",
        "    i += 1\n"
      ],
      "metadata": {
        "colab": {
          "base_uri": "https://localhost:8080/"
        },
        "id": "PCivVvnppJuS",
        "outputId": "456eb97b-ad7a-422e-ca0e-866a44cad9cd"
      },
      "execution_count": null,
      "outputs": [
        {
          "output_type": "stream",
          "name": "stdout",
          "text": [
            "2 4 6 8 10 12 14 16 18 20 "
          ]
        }
      ]
    },
    {
      "cell_type": "code",
      "source": [
        "a=[1,2,3,4,5]\n",
        "rev=a[::-1]\n",
        "print(rev)\n",
        "\n",
        "copied=a.copy()\n",
        "print(copied)\n",
        "\n",
        "a.insert(2,99)\n",
        "print(a)\n",
        "\n",
        "\n"
      ],
      "metadata": {
        "colab": {
          "base_uri": "https://localhost:8080/"
        },
        "id": "yDt7_WwuMrgI",
        "outputId": "ae5967fa-e360-4dd2-d692-d13bb1742a76"
      },
      "execution_count": null,
      "outputs": [
        {
          "output_type": "stream",
          "name": "stdout",
          "text": [
            "[5, 4, 3, 2, 1]\n",
            "[1, 2, 3, 4, 5]\n",
            "[1, 2, 99, 3, 4, 5]\n"
          ]
        }
      ]
    },
    {
      "cell_type": "code",
      "source": [
        "count = 0\n",
        "while count < 5:\n",
        " print(count)\n",
        " count +=1"
      ],
      "metadata": {
        "colab": {
          "base_uri": "https://localhost:8080/"
        },
        "id": "uftgY5CkYMO0",
        "outputId": "73e846e4-4d12-4fd0-c139-210a9ec1f37b"
      },
      "execution_count": null,
      "outputs": [
        {
          "output_type": "stream",
          "name": "stdout",
          "text": [
            "0\n",
            "1\n",
            "2\n",
            "3\n",
            "4\n"
          ]
        }
      ]
    },
    {
      "cell_type": "code",
      "source": [
        "def calculator():\n",
        " num1 = float(input(\"Enter first number: \"))\n",
        " num2 = float(input(\"Enter second number: \"))\n",
        " operation = input(\"Enter operation (+, -, *, /): \")\n",
        " if operation == '+':\n",
        "  print(f\"{num1} + {num2} = {num1 + num2}\")\n",
        " elif operation == '-':\n",
        "  print(f\"{num1} - {num2} = {num1 - num2}\")\n",
        " elif operation == '*':\n",
        "  print(f\"{num1} * {num2} = {num1 * num2}\")\n",
        " elif operation == '/':\n",
        "   if num2 != 0:\n",
        "    print(f\"{num1} / {num2} = {num1 / num2}\")\n",
        "   else:\n",
        "    print(\"Cannot divide by zero.\")\n",
        " else:\n",
        "   print(\"Invalid operation.\")\n",
        "calculator()\n"
      ],
      "metadata": {
        "colab": {
          "base_uri": "https://localhost:8080/"
        },
        "id": "-v7u5A6mZSw4",
        "outputId": "18a17ffc-6120-491b-d027-e64af4c933e9"
      },
      "execution_count": null,
      "outputs": [
        {
          "output_type": "stream",
          "name": "stdout",
          "text": [
            "Enter first number: 2\n",
            "Enter second number: 3\n",
            "Enter operation (+, -, *, /): +\n",
            "2.0 + 3.0 = 5.0\n"
          ]
        }
      ]
    },
    {
      "cell_type": "code",
      "source": [
        "def check_even_odd(n):\n",
        " if n % 2 == 0:\n",
        "  return \"Even\"\n",
        " else:\n",
        "  return \"Odd\"\n",
        "def factorial(n):\n",
        " result = 1\n",
        " for i in range(1, n + 1):\n",
        "  result *= i\n",
        " return result\n",
        "# Testing\n",
        "print(\"5 is\", check_even_odd(5))\n",
        "for i in range(1, 11):\n",
        " print(f\"Factorial of {i}: {factorial(i)}\")\n"
      ],
      "metadata": {
        "id": "SqyPE2_TiSkE",
        "outputId": "80ad897b-4a32-4c1b-bbd2-96d37cd32b01",
        "colab": {
          "base_uri": "https://localhost:8080/"
        }
      },
      "execution_count": null,
      "outputs": [
        {
          "output_type": "stream",
          "name": "stdout",
          "text": [
            "5 is Odd\n",
            "Factorial of 1: 1\n",
            "Factorial of 2: 2\n",
            "Factorial of 3: 6\n",
            "Factorial of 4: 24\n",
            "Factorial of 5: 120\n",
            "Factorial of 6: 720\n",
            "Factorial of 7: 5040\n",
            "Factorial of 8: 40320\n",
            "Factorial of 9: 362880\n",
            "Factorial of 10: 3628800\n"
          ]
        }
      ]
    }
  ]
}